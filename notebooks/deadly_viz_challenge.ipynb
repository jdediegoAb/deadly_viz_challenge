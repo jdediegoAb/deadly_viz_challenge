{
 "cells": [
  {
   "cell_type": "markdown",
   "metadata": {},
   "source": [
    "# Deadly Visualizations!!!\n",
    "\n",
    "![Image](../images/viz_types_portada.png)"
   ]
  },
  {
   "cell_type": "markdown",
   "metadata": {},
   "source": [
    "## Setup\n",
    "\n",
    "First we need to create a basic setup which includes:\n",
    "\n",
    "- Importing the libraries.\n",
    "\n",
    "- Reading the dataset file (source [Instituto Nacional de Estadística](https://www.ine.es/ss/Satellite?L=es_ES&c=Page&cid=1259942408928&p=1259942408928&pagename=ProductosYServicios%2FPYSLayout)).\n",
    "\n",
    "- Create a couple of columns and tables for the analysis.\n",
    "\n",
    "__NOTE:__ some functions were already created in order to help you go through the challenge. However, feel free to perform any code you might need."
   ]
  },
  {
   "cell_type": "code",
   "execution_count": 1,
   "metadata": {},
   "outputs": [
    {
     "data": {
      "text/html": [
       "        <script type=\"text/javascript\">\n",
       "        window.PlotlyConfig = {MathJaxConfig: 'local'};\n",
       "        if (window.MathJax && window.MathJax.Hub && window.MathJax.Hub.Config) {window.MathJax.Hub.Config({SVG: {font: \"STIX-Web\"}});}\n",
       "        if (typeof require !== 'undefined') {\n",
       "        require.undef(\"plotly\");\n",
       "        requirejs.config({\n",
       "            paths: {\n",
       "                'plotly': ['https://cdn.plot.ly/plotly-2.12.1.min']\n",
       "            }\n",
       "        });\n",
       "        require(['plotly'], function(Plotly) {\n",
       "            window._Plotly = Plotly;\n",
       "        });\n",
       "        }\n",
       "        </script>\n",
       "        "
      ]
     },
     "metadata": {},
     "output_type": "display_data"
    }
   ],
   "source": [
    "# imports\n",
    "\n",
    "import sys\n",
    "import re\n",
    "sys.path.insert(0, \"../modules\")\n",
    "\n",
    "import numpy as np\n",
    "import pandas as pd\n",
    "\n",
    "import plotly.express as px\n",
    "import cufflinks as cf\n",
    "cf.go_offline()\n",
    "\n",
    "import module as mod     # functions are include in module.py"
   ]
  },
  {
   "cell_type": "code",
   "execution_count": 179,
   "metadata": {},
   "outputs": [
    {
     "data": {
      "text/html": [
       "<div>\n",
       "<style scoped>\n",
       "    .dataframe tbody tr th:only-of-type {\n",
       "        vertical-align: middle;\n",
       "    }\n",
       "\n",
       "    .dataframe tbody tr th {\n",
       "        vertical-align: top;\n",
       "    }\n",
       "\n",
       "    .dataframe thead th {\n",
       "        text-align: right;\n",
       "    }\n",
       "</style>\n",
       "<table border=\"1\" class=\"dataframe\">\n",
       "  <thead>\n",
       "    <tr style=\"text-align: right;\">\n",
       "      <th></th>\n",
       "      <th>Causa de muerte</th>\n",
       "      <th>Sexo</th>\n",
       "      <th>Edad</th>\n",
       "      <th>Periodo</th>\n",
       "      <th>Total</th>\n",
       "      <th>Avg_Population</th>\n",
       "    </tr>\n",
       "  </thead>\n",
       "  <tbody>\n",
       "    <tr>\n",
       "      <th>0</th>\n",
       "      <td>001-102  I-XXII.Todas las causas</td>\n",
       "      <td>Total</td>\n",
       "      <td>Todas las edades</td>\n",
       "      <td>2018</td>\n",
       "      <td>427721</td>\n",
       "      <td>46693630</td>\n",
       "    </tr>\n",
       "    <tr>\n",
       "      <th>1</th>\n",
       "      <td>001-102  I-XXII.Todas las causas</td>\n",
       "      <td>Total</td>\n",
       "      <td>Menos de 1 año</td>\n",
       "      <td>2018</td>\n",
       "      <td>1027</td>\n",
       "      <td>46693630</td>\n",
       "    </tr>\n",
       "    <tr>\n",
       "      <th>2</th>\n",
       "      <td>001-102  I-XXII.Todas las causas</td>\n",
       "      <td>Total</td>\n",
       "      <td>De 1 a 4 años</td>\n",
       "      <td>2018</td>\n",
       "      <td>240</td>\n",
       "      <td>46693630</td>\n",
       "    </tr>\n",
       "    <tr>\n",
       "      <th>3</th>\n",
       "      <td>001-102  I-XXII.Todas las causas</td>\n",
       "      <td>Total</td>\n",
       "      <td>De 5 a 9 años</td>\n",
       "      <td>2018</td>\n",
       "      <td>179</td>\n",
       "      <td>46693630</td>\n",
       "    </tr>\n",
       "    <tr>\n",
       "      <th>4</th>\n",
       "      <td>001-102  I-XXII.Todas las causas</td>\n",
       "      <td>Total</td>\n",
       "      <td>De 10 a 14 años</td>\n",
       "      <td>2018</td>\n",
       "      <td>198</td>\n",
       "      <td>46693630</td>\n",
       "    </tr>\n",
       "    <tr>\n",
       "      <th>...</th>\n",
       "      <td>...</td>\n",
       "      <td>...</td>\n",
       "      <td>...</td>\n",
       "      <td>...</td>\n",
       "      <td>...</td>\n",
       "      <td>...</td>\n",
       "    </tr>\n",
       "    <tr>\n",
       "      <th>301153</th>\n",
       "      <td>102  Otras causas externas y sus efectos tardíos</td>\n",
       "      <td>Mujeres</td>\n",
       "      <td>De 75 a 79 años</td>\n",
       "      <td>1980</td>\n",
       "      <td>1</td>\n",
       "      <td>37420006</td>\n",
       "    </tr>\n",
       "    <tr>\n",
       "      <th>301154</th>\n",
       "      <td>102  Otras causas externas y sus efectos tardíos</td>\n",
       "      <td>Mujeres</td>\n",
       "      <td>De 80 a 84 años</td>\n",
       "      <td>1980</td>\n",
       "      <td>1</td>\n",
       "      <td>37420006</td>\n",
       "    </tr>\n",
       "    <tr>\n",
       "      <th>301155</th>\n",
       "      <td>102  Otras causas externas y sus efectos tardíos</td>\n",
       "      <td>Mujeres</td>\n",
       "      <td>De 85 a 89 años</td>\n",
       "      <td>1980</td>\n",
       "      <td>1</td>\n",
       "      <td>37420006</td>\n",
       "    </tr>\n",
       "    <tr>\n",
       "      <th>301156</th>\n",
       "      <td>102  Otras causas externas y sus efectos tardíos</td>\n",
       "      <td>Mujeres</td>\n",
       "      <td>De 90 a 94 años</td>\n",
       "      <td>1980</td>\n",
       "      <td>0</td>\n",
       "      <td>37420006</td>\n",
       "    </tr>\n",
       "    <tr>\n",
       "      <th>301157</th>\n",
       "      <td>102  Otras causas externas y sus efectos tardíos</td>\n",
       "      <td>Mujeres</td>\n",
       "      <td>95 y más años</td>\n",
       "      <td>1980</td>\n",
       "      <td>0</td>\n",
       "      <td>37420006</td>\n",
       "    </tr>\n",
       "  </tbody>\n",
       "</table>\n",
       "<p>301158 rows × 6 columns</p>\n",
       "</div>"
      ],
      "text/plain": [
       "                                         Causa de muerte     Sexo  \\\n",
       "0                       001-102  I-XXII.Todas las causas    Total   \n",
       "1                       001-102  I-XXII.Todas las causas    Total   \n",
       "2                       001-102  I-XXII.Todas las causas    Total   \n",
       "3                       001-102  I-XXII.Todas las causas    Total   \n",
       "4                       001-102  I-XXII.Todas las causas    Total   \n",
       "...                                                  ...      ...   \n",
       "301153  102  Otras causas externas y sus efectos tardíos  Mujeres   \n",
       "301154  102  Otras causas externas y sus efectos tardíos  Mujeres   \n",
       "301155  102  Otras causas externas y sus efectos tardíos  Mujeres   \n",
       "301156  102  Otras causas externas y sus efectos tardíos  Mujeres   \n",
       "301157  102  Otras causas externas y sus efectos tardíos  Mujeres   \n",
       "\n",
       "                     Edad  Periodo   Total  Avg_Population  \n",
       "0        Todas las edades     2018  427721        46693630  \n",
       "1          Menos de 1 año     2018    1027        46693630  \n",
       "2           De 1 a 4 años     2018     240        46693630  \n",
       "3           De 5 a 9 años     2018     179        46693630  \n",
       "4       De 10 a 14 años       2018     198        46693630  \n",
       "...                   ...      ...     ...             ...  \n",
       "301153  De 75 a 79 años       1980       1        37420006  \n",
       "301154  De 80 a 84 años       1980       1        37420006  \n",
       "301155  De 85 a 89 años       1980       1        37420006  \n",
       "301156  De 90 a 94 años       1980       0        37420006  \n",
       "301157      95 y más años     1980       0        37420006  \n",
       "\n",
       "[301158 rows x 6 columns]"
      ]
     },
     "execution_count": 179,
     "metadata": {},
     "output_type": "execute_result"
    }
   ],
   "source": [
    "# read dataset\n",
    "import re\n",
    "deaths = pd.read_csv('../data/7947.csv', sep=';', thousands='.')\n",
    "population=pd.read_csv('../data/31304bsc.csv',sep=';',thousands='.')\n",
    "population['Periodo'] = population['Periodo'].str[-4:]\n",
    "population =population.groupby('Periodo')['Total'].mean().reset_index(name='Avg_Population')\n",
    "population['Periodo']=population['Periodo'].astype(int)\n",
    "population['Avg_Population']=population['Avg_Population'].astype(int)\n",
    "deaths=pd.merge(deaths, population, on='Periodo')\n",
    "deaths"
   ]
  },
  {
   "cell_type": "code",
   "execution_count": 180,
   "metadata": {},
   "outputs": [],
   "source": [
    "# add some columns...you'll need them later\n",
    "\n",
    "deaths['cause_code'] = deaths['Causa de muerte'].apply(mod.cause_code)\n",
    "deaths['cause_group'] = deaths['Causa de muerte'].apply(mod.cause_types)\n",
    "deaths['cause_name'] = deaths['Causa de muerte'].apply(mod.cause_name)\n",
    "\n"
   ]
  },
  {
   "cell_type": "code",
   "execution_count": 181,
   "metadata": {},
   "outputs": [
    {
     "data": {
      "text/html": [
       "<div>\n",
       "<style scoped>\n",
       "    .dataframe tbody tr th:only-of-type {\n",
       "        vertical-align: middle;\n",
       "    }\n",
       "\n",
       "    .dataframe tbody tr th {\n",
       "        vertical-align: top;\n",
       "    }\n",
       "\n",
       "    .dataframe thead th {\n",
       "        text-align: right;\n",
       "    }\n",
       "</style>\n",
       "<table border=\"1\" class=\"dataframe\">\n",
       "  <thead>\n",
       "    <tr style=\"text-align: right;\">\n",
       "      <th></th>\n",
       "      <th>categorical_variable</th>\n",
       "      <th>number_of_possible_values</th>\n",
       "      <th>values</th>\n",
       "    </tr>\n",
       "  </thead>\n",
       "  <tbody>\n",
       "    <tr>\n",
       "      <th>0</th>\n",
       "      <td>cause_code</td>\n",
       "      <td>117</td>\n",
       "      <td>[001-102, 001-008, 001, 002, 003, 004, 005, 00...</td>\n",
       "    </tr>\n",
       "    <tr>\n",
       "      <th>1</th>\n",
       "      <td>cause_name</td>\n",
       "      <td>117</td>\n",
       "      <td>[I-XXII.Todas las causas, I.Enfermedades infec...</td>\n",
       "    </tr>\n",
       "    <tr>\n",
       "      <th>2</th>\n",
       "      <td>Periodo</td>\n",
       "      <td>39</td>\n",
       "      <td>[2018, 2017, 2016, 2015, 2014, 2013, 2012, 201...</td>\n",
       "    </tr>\n",
       "    <tr>\n",
       "      <th>3</th>\n",
       "      <td>Edad</td>\n",
       "      <td>22</td>\n",
       "      <td>[Todas las edades, Menos de 1 año, De 1 a 4 añ...</td>\n",
       "    </tr>\n",
       "    <tr>\n",
       "      <th>4</th>\n",
       "      <td>Sexo</td>\n",
       "      <td>3</td>\n",
       "      <td>[Total, Hombres, Mujeres]</td>\n",
       "    </tr>\n",
       "    <tr>\n",
       "      <th>5</th>\n",
       "      <td>cause_group</td>\n",
       "      <td>2</td>\n",
       "      <td>[Multiple causes, Single cause]</td>\n",
       "    </tr>\n",
       "  </tbody>\n",
       "</table>\n",
       "</div>"
      ],
      "text/plain": [
       "  categorical_variable  number_of_possible_values  \\\n",
       "0           cause_code                        117   \n",
       "1           cause_name                        117   \n",
       "2              Periodo                         39   \n",
       "3                 Edad                         22   \n",
       "4                 Sexo                          3   \n",
       "5          cause_group                          2   \n",
       "\n",
       "                                              values  \n",
       "0  [001-102, 001-008, 001, 002, 003, 004, 005, 00...  \n",
       "1  [I-XXII.Todas las causas, I.Enfermedades infec...  \n",
       "2  [2018, 2017, 2016, 2015, 2014, 2013, 2012, 201...  \n",
       "3  [Todas las edades, Menos de 1 año, De 1 a 4 añ...  \n",
       "4                          [Total, Hombres, Mujeres]  \n",
       "5                    [Multiple causes, Single cause]  "
      ]
     },
     "execution_count": 181,
     "metadata": {},
     "output_type": "execute_result"
    }
   ],
   "source": [
    "# lets check the categorical variables\n",
    "var_list = ['Sexo', 'Edad', 'Periodo', 'cause_code', 'cause_name', 'cause_group']\n",
    "categories = mod.cat_var(deaths, var_list)\n",
    "categories"
   ]
  },
  {
   "cell_type": "code",
   "execution_count": 182,
   "metadata": {},
   "outputs": [
    {
     "data": {
      "text/html": [
       "<div>\n",
       "<style scoped>\n",
       "    .dataframe tbody tr th:only-of-type {\n",
       "        vertical-align: middle;\n",
       "    }\n",
       "\n",
       "    .dataframe tbody tr th {\n",
       "        vertical-align: top;\n",
       "    }\n",
       "\n",
       "    .dataframe thead th {\n",
       "        text-align: right;\n",
       "    }\n",
       "</style>\n",
       "<table border=\"1\" class=\"dataframe\">\n",
       "  <thead>\n",
       "    <tr style=\"text-align: right;\">\n",
       "      <th></th>\n",
       "      <th>cause_code</th>\n",
       "      <th>cause_name</th>\n",
       "    </tr>\n",
       "  </thead>\n",
       "  <tbody>\n",
       "    <tr>\n",
       "      <th>0</th>\n",
       "      <td>001</td>\n",
       "      <td>Enfermedades infecciosas intestinales</td>\n",
       "    </tr>\n",
       "    <tr>\n",
       "      <th>1</th>\n",
       "      <td>001-008</td>\n",
       "      <td>I.Enfermedades infecciosas y parasitarias</td>\n",
       "    </tr>\n",
       "    <tr>\n",
       "      <th>2</th>\n",
       "      <td>001-102</td>\n",
       "      <td>I-XXII.Todas las causas</td>\n",
       "    </tr>\n",
       "    <tr>\n",
       "      <th>3</th>\n",
       "      <td>002</td>\n",
       "      <td>Tuberculosis y sus efectos tardíos</td>\n",
       "    </tr>\n",
       "    <tr>\n",
       "      <th>4</th>\n",
       "      <td>003</td>\n",
       "      <td>Enfermedad meningocócica</td>\n",
       "    </tr>\n",
       "    <tr>\n",
       "      <th>...</th>\n",
       "      <td>...</td>\n",
       "      <td>...</td>\n",
       "    </tr>\n",
       "    <tr>\n",
       "      <th>112</th>\n",
       "      <td>098</td>\n",
       "      <td>Suicidio y lesiones autoinfligidas</td>\n",
       "    </tr>\n",
       "    <tr>\n",
       "      <th>113</th>\n",
       "      <td>099</td>\n",
       "      <td>Agresiones (homicidio)</td>\n",
       "    </tr>\n",
       "    <tr>\n",
       "      <th>114</th>\n",
       "      <td>100</td>\n",
       "      <td>Eventos de intención no determinada</td>\n",
       "    </tr>\n",
       "    <tr>\n",
       "      <th>115</th>\n",
       "      <td>101</td>\n",
       "      <td>Complicaciones de la atención médica y quirúrgica</td>\n",
       "    </tr>\n",
       "    <tr>\n",
       "      <th>116</th>\n",
       "      <td>102</td>\n",
       "      <td>Otras causas externas y sus efectos tardíos</td>\n",
       "    </tr>\n",
       "  </tbody>\n",
       "</table>\n",
       "<p>117 rows × 2 columns</p>\n",
       "</div>"
      ],
      "text/plain": [
       "    cause_code                                         cause_name\n",
       "0          001              Enfermedades infecciosas intestinales\n",
       "1      001-008          I.Enfermedades infecciosas y parasitarias\n",
       "2      001-102                            I-XXII.Todas las causas\n",
       "3          002                 Tuberculosis y sus efectos tardíos\n",
       "4          003                           Enfermedad meningocócica\n",
       "..         ...                                                ...\n",
       "112        098                 Suicidio y lesiones autoinfligidas\n",
       "113        099                             Agresiones (homicidio)\n",
       "114        100                Eventos de intención no determinada\n",
       "115        101  Complicaciones de la atención médica y quirúrgica\n",
       "116        102        Otras causas externas y sus efectos tardíos\n",
       "\n",
       "[117 rows x 2 columns]"
      ]
     },
     "execution_count": 182,
     "metadata": {},
     "output_type": "execute_result"
    }
   ],
   "source": [
    "# we need also to create a causes table for the analysis\n",
    "\n",
    "causes_table = deaths[['cause_code', 'cause_name']].drop_duplicates().sort_values(by='cause_code').reset_index(drop=True)\n",
    "\n",
    "causes_table"
   ]
  },
  {
   "cell_type": "code",
   "execution_count": 183,
   "metadata": {},
   "outputs": [
    {
     "data": {
      "text/plain": [
       "array(['Multiple causes', 'Single cause'], dtype=object)"
      ]
     },
     "execution_count": 183,
     "metadata": {},
     "output_type": "execute_result"
    }
   ],
   "source": [
    "# And some space for free-style Pandas!!! (e.g.: df['column_name'].unique())\n",
    "\n",
    "A=deaths['cause_group'].unique()\n",
    "A"
   ]
  },
  {
   "cell_type": "markdown",
   "metadata": {},
   "source": [
    "## Lets make some transformations\n",
    "\n",
    "Eventhough the dataset is pretty clean, the information is completely denormalized as you could see. For that matter a collection of methods (functions) are available in order to generate the tables you might need:\n",
    "\n",
    "- `row_filter(df, cat_var, cat_values)` => Filter rows by any value or group of values in a categorical variable.\n",
    "\n",
    "- `nrow_filter(df, cat_var, cat_values)` => The same but backwards. \n",
    "\n",
    "- `groupby_sum(df, group_vars, agg_var='Total', sort_var='Total')` => Add deaths by a certain variable.\n",
    "\n",
    "- `pivot_table(df, col, x_axis, value='Total')`=> Make some pivot tables, you might need them...\n",
    "\n",
    "__NOTE:__ be aware that the filtering methods can perform a filter at a time. Feel free to perform the filter you need in any way you want or feel confortable with."
   ]
  },
  {
   "cell_type": "code",
   "execution_count": 202,
   "metadata": {},
   "outputs": [
    {
     "data": {
      "text/html": [
       "<div>\n",
       "<style scoped>\n",
       "    .dataframe tbody tr th:only-of-type {\n",
       "        vertical-align: middle;\n",
       "    }\n",
       "\n",
       "    .dataframe tbody tr th {\n",
       "        vertical-align: top;\n",
       "    }\n",
       "\n",
       "    .dataframe thead th {\n",
       "        text-align: right;\n",
       "    }\n",
       "</style>\n",
       "<table border=\"1\" class=\"dataframe\">\n",
       "  <thead>\n",
       "    <tr style=\"text-align: right;\">\n",
       "      <th></th>\n",
       "      <th>Causa de muerte</th>\n",
       "      <th>Sexo</th>\n",
       "      <th>Edad</th>\n",
       "      <th>Periodo</th>\n",
       "      <th>Total</th>\n",
       "      <th>Avg_Population</th>\n",
       "      <th>cause_code</th>\n",
       "      <th>cause_group</th>\n",
       "      <th>cause_name</th>\n",
       "      <th>ratio</th>\n",
       "    </tr>\n",
       "  </thead>\n",
       "  <tbody>\n",
       "    <tr>\n",
       "      <th>0</th>\n",
       "      <td>059  Enfermedades cerebrovasculares</td>\n",
       "      <td>Total</td>\n",
       "      <td>Todas las edades</td>\n",
       "      <td>1981</td>\n",
       "      <td>49000</td>\n",
       "      <td>37699923</td>\n",
       "      <td>059</td>\n",
       "      <td>Single cause</td>\n",
       "      <td>Enfermedades cerebrovasculares</td>\n",
       "      <td>0.001300</td>\n",
       "    </tr>\n",
       "    <tr>\n",
       "      <th>1</th>\n",
       "      <td>059  Enfermedades cerebrovasculares</td>\n",
       "      <td>Total</td>\n",
       "      <td>Todas las edades</td>\n",
       "      <td>1983</td>\n",
       "      <td>48331</td>\n",
       "      <td>38125207</td>\n",
       "      <td>059</td>\n",
       "      <td>Single cause</td>\n",
       "      <td>Enfermedades cerebrovasculares</td>\n",
       "      <td>0.001268</td>\n",
       "    </tr>\n",
       "    <tr>\n",
       "      <th>2</th>\n",
       "      <td>059  Enfermedades cerebrovasculares</td>\n",
       "      <td>Total</td>\n",
       "      <td>Todas las edades</td>\n",
       "      <td>1984</td>\n",
       "      <td>47699</td>\n",
       "      <td>38289071</td>\n",
       "      <td>059</td>\n",
       "      <td>Single cause</td>\n",
       "      <td>Enfermedades cerebrovasculares</td>\n",
       "      <td>0.001246</td>\n",
       "    </tr>\n",
       "    <tr>\n",
       "      <th>3</th>\n",
       "      <td>059  Enfermedades cerebrovasculares</td>\n",
       "      <td>Total</td>\n",
       "      <td>Todas las edades</td>\n",
       "      <td>1985</td>\n",
       "      <td>47684</td>\n",
       "      <td>38437427</td>\n",
       "      <td>059</td>\n",
       "      <td>Single cause</td>\n",
       "      <td>Enfermedades cerebrovasculares</td>\n",
       "      <td>0.001241</td>\n",
       "    </tr>\n",
       "    <tr>\n",
       "      <th>4</th>\n",
       "      <td>059  Enfermedades cerebrovasculares</td>\n",
       "      <td>Total</td>\n",
       "      <td>Todas las edades</td>\n",
       "      <td>1980</td>\n",
       "      <td>47475</td>\n",
       "      <td>37420006</td>\n",
       "      <td>059</td>\n",
       "      <td>Single cause</td>\n",
       "      <td>Enfermedades cerebrovasculares</td>\n",
       "      <td>0.001269</td>\n",
       "    </tr>\n",
       "    <tr>\n",
       "      <th>...</th>\n",
       "      <td>...</td>\n",
       "      <td>...</td>\n",
       "      <td>...</td>\n",
       "      <td>...</td>\n",
       "      <td>...</td>\n",
       "      <td>...</td>\n",
       "      <td>...</td>\n",
       "      <td>...</td>\n",
       "      <td>...</td>\n",
       "      <td>...</td>\n",
       "    </tr>\n",
       "    <tr>\n",
       "      <th>2569</th>\n",
       "      <td>059  Enfermedades cerebrovasculares</td>\n",
       "      <td>Total</td>\n",
       "      <td>Menos de 1 año</td>\n",
       "      <td>2008</td>\n",
       "      <td>0</td>\n",
       "      <td>45826053</td>\n",
       "      <td>059</td>\n",
       "      <td>Single cause</td>\n",
       "      <td>Enfermedades cerebrovasculares</td>\n",
       "      <td>0.000000</td>\n",
       "    </tr>\n",
       "    <tr>\n",
       "      <th>2570</th>\n",
       "      <td>059  Enfermedades cerebrovasculares</td>\n",
       "      <td>Mujeres</td>\n",
       "      <td>De 1 a 4 años</td>\n",
       "      <td>2004</td>\n",
       "      <td>0</td>\n",
       "      <td>42703313</td>\n",
       "      <td>059</td>\n",
       "      <td>Single cause</td>\n",
       "      <td>Enfermedades cerebrovasculares</td>\n",
       "      <td>0.000000</td>\n",
       "    </tr>\n",
       "    <tr>\n",
       "      <th>2571</th>\n",
       "      <td>059  Enfermedades cerebrovasculares</td>\n",
       "      <td>Total</td>\n",
       "      <td>De 1 a 4 años</td>\n",
       "      <td>2011</td>\n",
       "      <td>0</td>\n",
       "      <td>46701716</td>\n",
       "      <td>059</td>\n",
       "      <td>Single cause</td>\n",
       "      <td>Enfermedades cerebrovasculares</td>\n",
       "      <td>0.000000</td>\n",
       "    </tr>\n",
       "    <tr>\n",
       "      <th>2572</th>\n",
       "      <td>059  Enfermedades cerebrovasculares</td>\n",
       "      <td>Mujeres</td>\n",
       "      <td>Menos de 1 año</td>\n",
       "      <td>2015</td>\n",
       "      <td>0</td>\n",
       "      <td>46429857</td>\n",
       "      <td>059</td>\n",
       "      <td>Single cause</td>\n",
       "      <td>Enfermedades cerebrovasculares</td>\n",
       "      <td>0.000000</td>\n",
       "    </tr>\n",
       "    <tr>\n",
       "      <th>2573</th>\n",
       "      <td>059  Enfermedades cerebrovasculares</td>\n",
       "      <td>Total</td>\n",
       "      <td>De 5 a 9 años</td>\n",
       "      <td>2017</td>\n",
       "      <td>0</td>\n",
       "      <td>46529954</td>\n",
       "      <td>059</td>\n",
       "      <td>Single cause</td>\n",
       "      <td>Enfermedades cerebrovasculares</td>\n",
       "      <td>0.000000</td>\n",
       "    </tr>\n",
       "  </tbody>\n",
       "</table>\n",
       "<p>2574 rows × 10 columns</p>\n",
       "</div>"
      ],
      "text/plain": [
       "                          Causa de muerte     Sexo              Edad  Periodo  \\\n",
       "0     059  Enfermedades cerebrovasculares    Total  Todas las edades     1981   \n",
       "1     059  Enfermedades cerebrovasculares    Total  Todas las edades     1983   \n",
       "2     059  Enfermedades cerebrovasculares    Total  Todas las edades     1984   \n",
       "3     059  Enfermedades cerebrovasculares    Total  Todas las edades     1985   \n",
       "4     059  Enfermedades cerebrovasculares    Total  Todas las edades     1980   \n",
       "...                                   ...      ...               ...      ...   \n",
       "2569  059  Enfermedades cerebrovasculares    Total    Menos de 1 año     2008   \n",
       "2570  059  Enfermedades cerebrovasculares  Mujeres     De 1 a 4 años     2004   \n",
       "2571  059  Enfermedades cerebrovasculares    Total     De 1 a 4 años     2011   \n",
       "2572  059  Enfermedades cerebrovasculares  Mujeres    Menos de 1 año     2015   \n",
       "2573  059  Enfermedades cerebrovasculares    Total     De 5 a 9 años     2017   \n",
       "\n",
       "      Total  Avg_Population cause_code   cause_group  \\\n",
       "0     49000        37699923        059  Single cause   \n",
       "1     48331        38125207        059  Single cause   \n",
       "2     47699        38289071        059  Single cause   \n",
       "3     47684        38437427        059  Single cause   \n",
       "4     47475        37420006        059  Single cause   \n",
       "...     ...             ...        ...           ...   \n",
       "2569      0        45826053        059  Single cause   \n",
       "2570      0        42703313        059  Single cause   \n",
       "2571      0        46701716        059  Single cause   \n",
       "2572      0        46429857        059  Single cause   \n",
       "2573      0        46529954        059  Single cause   \n",
       "\n",
       "                          cause_name     ratio  \n",
       "0     Enfermedades cerebrovasculares  0.001300  \n",
       "1     Enfermedades cerebrovasculares  0.001268  \n",
       "2     Enfermedades cerebrovasculares  0.001246  \n",
       "3     Enfermedades cerebrovasculares  0.001241  \n",
       "4     Enfermedades cerebrovasculares  0.001269  \n",
       "...                              ...       ...  \n",
       "2569  Enfermedades cerebrovasculares  0.000000  \n",
       "2570  Enfermedades cerebrovasculares  0.000000  \n",
       "2571  Enfermedades cerebrovasculares  0.000000  \n",
       "2572  Enfermedades cerebrovasculares  0.000000  \n",
       "2573  Enfermedades cerebrovasculares  0.000000  \n",
       "\n",
       "[2574 rows x 10 columns]"
      ]
     },
     "execution_count": 202,
     "metadata": {},
     "output_type": "execute_result"
    }
   ],
   "source": [
    "# Example 1\n",
    "\n",
    "#dataset = mod.row_filter(deaths, 'Sexo', ['Total'])\n",
    "#dataset = mod.row_filter(dataset, 'Edad', ['Todas las edades'])\n",
    "#dataset.head()\n",
    "dataset1 = mod.row_filter(deaths, 'cause_code', ['059'])\n",
    "#dataset2=mod.row_filter(dataset1,'Edad',['Todas las edades'])\n",
    "#dataset3=mod.row_filter(dataset2,'cause_group',['Multiple causes'])\n",
    "#dataset3\n",
    "dataset1['ratio']=dataset1['Total']/dataset1['Avg_Population']\n",
    "dataset1"
   ]
  },
  {
   "cell_type": "code",
   "execution_count": 203,
   "metadata": {},
   "outputs": [
    {
     "data": {
      "text/html": [
       "<div>\n",
       "<style scoped>\n",
       "    .dataframe tbody tr th:only-of-type {\n",
       "        vertical-align: middle;\n",
       "    }\n",
       "\n",
       "    .dataframe tbody tr th {\n",
       "        vertical-align: top;\n",
       "    }\n",
       "\n",
       "    .dataframe thead th {\n",
       "        text-align: right;\n",
       "    }\n",
       "</style>\n",
       "<table border=\"1\" class=\"dataframe\">\n",
       "  <thead>\n",
       "    <tr style=\"text-align: right;\">\n",
       "      <th></th>\n",
       "      <th>Sexo</th>\n",
       "      <th>Periodo</th>\n",
       "      <th>ratio</th>\n",
       "      <th>Total</th>\n",
       "    </tr>\n",
       "  </thead>\n",
       "  <tbody>\n",
       "    <tr>\n",
       "      <th>0</th>\n",
       "      <td>Total</td>\n",
       "      <td>1981</td>\n",
       "      <td>0.001300</td>\n",
       "      <td>49000</td>\n",
       "    </tr>\n",
       "    <tr>\n",
       "      <th>1</th>\n",
       "      <td>Total</td>\n",
       "      <td>1983</td>\n",
       "      <td>0.001268</td>\n",
       "      <td>48331</td>\n",
       "    </tr>\n",
       "    <tr>\n",
       "      <th>2</th>\n",
       "      <td>Total</td>\n",
       "      <td>1984</td>\n",
       "      <td>0.001246</td>\n",
       "      <td>47699</td>\n",
       "    </tr>\n",
       "    <tr>\n",
       "      <th>3</th>\n",
       "      <td>Total</td>\n",
       "      <td>1985</td>\n",
       "      <td>0.001241</td>\n",
       "      <td>47684</td>\n",
       "    </tr>\n",
       "    <tr>\n",
       "      <th>4</th>\n",
       "      <td>Total</td>\n",
       "      <td>1980</td>\n",
       "      <td>0.001269</td>\n",
       "      <td>47475</td>\n",
       "    </tr>\n",
       "    <tr>\n",
       "      <th>...</th>\n",
       "      <td>...</td>\n",
       "      <td>...</td>\n",
       "      <td>...</td>\n",
       "      <td>...</td>\n",
       "    </tr>\n",
       "    <tr>\n",
       "      <th>2454</th>\n",
       "      <td>Total</td>\n",
       "      <td>2017</td>\n",
       "      <td>0.000000</td>\n",
       "      <td>0</td>\n",
       "    </tr>\n",
       "    <tr>\n",
       "      <th>2455</th>\n",
       "      <td>Hombres</td>\n",
       "      <td>2014</td>\n",
       "      <td>0.000000</td>\n",
       "      <td>0</td>\n",
       "    </tr>\n",
       "    <tr>\n",
       "      <th>2456</th>\n",
       "      <td>Mujeres</td>\n",
       "      <td>2017</td>\n",
       "      <td>0.000000</td>\n",
       "      <td>0</td>\n",
       "    </tr>\n",
       "    <tr>\n",
       "      <th>2457</th>\n",
       "      <td>Hombres</td>\n",
       "      <td>1997</td>\n",
       "      <td>0.000000</td>\n",
       "      <td>0</td>\n",
       "    </tr>\n",
       "    <tr>\n",
       "      <th>2458</th>\n",
       "      <td>Mujeres</td>\n",
       "      <td>2007</td>\n",
       "      <td>0.000000</td>\n",
       "      <td>0</td>\n",
       "    </tr>\n",
       "  </tbody>\n",
       "</table>\n",
       "<p>2459 rows × 4 columns</p>\n",
       "</div>"
      ],
      "text/plain": [
       "         Sexo  Periodo     ratio  Total\n",
       "0       Total     1981  0.001300  49000\n",
       "1       Total     1983  0.001268  48331\n",
       "2       Total     1984  0.001246  47699\n",
       "3       Total     1985  0.001241  47684\n",
       "4       Total     1980  0.001269  47475\n",
       "...       ...      ...       ...    ...\n",
       "2454    Total     2017  0.000000      0\n",
       "2455  Hombres     2014  0.000000      0\n",
       "2456  Mujeres     2017  0.000000      0\n",
       "2457  Hombres     1997  0.000000      0\n",
       "2458  Mujeres     2007  0.000000      0\n",
       "\n",
       "[2459 rows x 4 columns]"
      ]
     },
     "execution_count": 203,
     "metadata": {},
     "output_type": "execute_result"
    }
   ],
   "source": [
    "# Example 2\n",
    "group = ['Sexo','Periodo','ratio']\n",
    "dataset1 = mod.groupby_sum(dataset1, group)\n",
    "dataset1\n"
   ]
  },
  {
   "cell_type": "code",
   "execution_count": 204,
   "metadata": {},
   "outputs": [
    {
     "data": {
      "text/html": [
       "<div>\n",
       "<style scoped>\n",
       "    .dataframe tbody tr th:only-of-type {\n",
       "        vertical-align: middle;\n",
       "    }\n",
       "\n",
       "    .dataframe tbody tr th {\n",
       "        vertical-align: top;\n",
       "    }\n",
       "\n",
       "    .dataframe thead th {\n",
       "        text-align: right;\n",
       "    }\n",
       "</style>\n",
       "<table border=\"1\" class=\"dataframe\">\n",
       "  <thead>\n",
       "    <tr style=\"text-align: right;\">\n",
       "      <th>Sexo</th>\n",
       "      <th>Periodo</th>\n",
       "      <th>Hombres</th>\n",
       "      <th>Mujeres</th>\n",
       "      <th>Total</th>\n",
       "    </tr>\n",
       "  </thead>\n",
       "  <tbody>\n",
       "    <tr>\n",
       "      <th>0</th>\n",
       "      <td>1980</td>\n",
       "      <td>0.001063</td>\n",
       "      <td>0.001452</td>\n",
       "      <td>0.002537</td>\n",
       "    </tr>\n",
       "    <tr>\n",
       "      <th>1</th>\n",
       "      <td>1981</td>\n",
       "      <td>0.001105</td>\n",
       "      <td>0.001494</td>\n",
       "      <td>0.002599</td>\n",
       "    </tr>\n",
       "    <tr>\n",
       "      <th>2</th>\n",
       "      <td>1982</td>\n",
       "      <td>0.001029</td>\n",
       "      <td>0.001403</td>\n",
       "      <td>0.002433</td>\n",
       "    </tr>\n",
       "    <tr>\n",
       "      <th>3</th>\n",
       "      <td>1983</td>\n",
       "      <td>0.001065</td>\n",
       "      <td>0.001469</td>\n",
       "      <td>0.002535</td>\n",
       "    </tr>\n",
       "    <tr>\n",
       "      <th>4</th>\n",
       "      <td>1984</td>\n",
       "      <td>0.001051</td>\n",
       "      <td>0.001440</td>\n",
       "      <td>0.002490</td>\n",
       "    </tr>\n",
       "    <tr>\n",
       "      <th>5</th>\n",
       "      <td>1985</td>\n",
       "      <td>0.001049</td>\n",
       "      <td>0.001431</td>\n",
       "      <td>0.002481</td>\n",
       "    </tr>\n",
       "    <tr>\n",
       "      <th>6</th>\n",
       "      <td>1986</td>\n",
       "      <td>0.000981</td>\n",
       "      <td>0.001395</td>\n",
       "      <td>0.002376</td>\n",
       "    </tr>\n",
       "    <tr>\n",
       "      <th>7</th>\n",
       "      <td>1987</td>\n",
       "      <td>0.000951</td>\n",
       "      <td>0.001349</td>\n",
       "      <td>0.002300</td>\n",
       "    </tr>\n",
       "    <tr>\n",
       "      <th>8</th>\n",
       "      <td>1988</td>\n",
       "      <td>0.000958</td>\n",
       "      <td>0.001346</td>\n",
       "      <td>0.002305</td>\n",
       "    </tr>\n",
       "    <tr>\n",
       "      <th>9</th>\n",
       "      <td>1989</td>\n",
       "      <td>0.000939</td>\n",
       "      <td>0.001321</td>\n",
       "      <td>0.002261</td>\n",
       "    </tr>\n",
       "    <tr>\n",
       "      <th>10</th>\n",
       "      <td>1990</td>\n",
       "      <td>0.000910</td>\n",
       "      <td>0.001313</td>\n",
       "      <td>0.002225</td>\n",
       "    </tr>\n",
       "    <tr>\n",
       "      <th>11</th>\n",
       "      <td>1991</td>\n",
       "      <td>0.000931</td>\n",
       "      <td>0.001330</td>\n",
       "      <td>0.002262</td>\n",
       "    </tr>\n",
       "    <tr>\n",
       "      <th>12</th>\n",
       "      <td>1992</td>\n",
       "      <td>0.000881</td>\n",
       "      <td>0.001269</td>\n",
       "      <td>0.002150</td>\n",
       "    </tr>\n",
       "    <tr>\n",
       "      <th>13</th>\n",
       "      <td>1993</td>\n",
       "      <td>0.000869</td>\n",
       "      <td>0.001260</td>\n",
       "      <td>0.002129</td>\n",
       "    </tr>\n",
       "    <tr>\n",
       "      <th>14</th>\n",
       "      <td>1994</td>\n",
       "      <td>0.000837</td>\n",
       "      <td>0.001238</td>\n",
       "      <td>0.002082</td>\n",
       "    </tr>\n",
       "    <tr>\n",
       "      <th>15</th>\n",
       "      <td>1995</td>\n",
       "      <td>0.000838</td>\n",
       "      <td>0.001174</td>\n",
       "      <td>0.002012</td>\n",
       "    </tr>\n",
       "    <tr>\n",
       "      <th>16</th>\n",
       "      <td>1996</td>\n",
       "      <td>0.000800</td>\n",
       "      <td>0.001148</td>\n",
       "      <td>0.001948</td>\n",
       "    </tr>\n",
       "    <tr>\n",
       "      <th>17</th>\n",
       "      <td>1997</td>\n",
       "      <td>0.000774</td>\n",
       "      <td>0.001116</td>\n",
       "      <td>0.001891</td>\n",
       "    </tr>\n",
       "    <tr>\n",
       "      <th>18</th>\n",
       "      <td>1998</td>\n",
       "      <td>0.000782</td>\n",
       "      <td>0.001112</td>\n",
       "      <td>0.001895</td>\n",
       "    </tr>\n",
       "    <tr>\n",
       "      <th>19</th>\n",
       "      <td>1999</td>\n",
       "      <td>0.000797</td>\n",
       "      <td>0.001123</td>\n",
       "      <td>0.001920</td>\n",
       "    </tr>\n",
       "    <tr>\n",
       "      <th>20</th>\n",
       "      <td>2000</td>\n",
       "      <td>0.000741</td>\n",
       "      <td>0.001065</td>\n",
       "      <td>0.001807</td>\n",
       "    </tr>\n",
       "    <tr>\n",
       "      <th>21</th>\n",
       "      <td>2001</td>\n",
       "      <td>0.000735</td>\n",
       "      <td>0.001060</td>\n",
       "      <td>0.001796</td>\n",
       "    </tr>\n",
       "    <tr>\n",
       "      <th>22</th>\n",
       "      <td>2002</td>\n",
       "      <td>0.000724</td>\n",
       "      <td>0.001020</td>\n",
       "      <td>0.001744</td>\n",
       "    </tr>\n",
       "    <tr>\n",
       "      <th>23</th>\n",
       "      <td>2003</td>\n",
       "      <td>0.000728</td>\n",
       "      <td>0.001044</td>\n",
       "      <td>0.001772</td>\n",
       "    </tr>\n",
       "    <tr>\n",
       "      <th>24</th>\n",
       "      <td>2004</td>\n",
       "      <td>0.000665</td>\n",
       "      <td>0.000939</td>\n",
       "      <td>0.001604</td>\n",
       "    </tr>\n",
       "    <tr>\n",
       "      <th>25</th>\n",
       "      <td>2005</td>\n",
       "      <td>0.000672</td>\n",
       "      <td>0.000926</td>\n",
       "      <td>0.001598</td>\n",
       "    </tr>\n",
       "    <tr>\n",
       "      <th>26</th>\n",
       "      <td>2006</td>\n",
       "      <td>0.000627</td>\n",
       "      <td>0.000862</td>\n",
       "      <td>0.001489</td>\n",
       "    </tr>\n",
       "    <tr>\n",
       "      <th>27</th>\n",
       "      <td>2007</td>\n",
       "      <td>0.000625</td>\n",
       "      <td>0.000843</td>\n",
       "      <td>0.001358</td>\n",
       "    </tr>\n",
       "    <tr>\n",
       "      <th>28</th>\n",
       "      <td>2008</td>\n",
       "      <td>0.000587</td>\n",
       "      <td>0.000802</td>\n",
       "      <td>0.001389</td>\n",
       "    </tr>\n",
       "    <tr>\n",
       "      <th>29</th>\n",
       "      <td>2009</td>\n",
       "      <td>0.000571</td>\n",
       "      <td>0.000775</td>\n",
       "      <td>0.001346</td>\n",
       "    </tr>\n",
       "    <tr>\n",
       "      <th>30</th>\n",
       "      <td>2010</td>\n",
       "      <td>0.000543</td>\n",
       "      <td>0.000753</td>\n",
       "      <td>0.001297</td>\n",
       "    </tr>\n",
       "    <tr>\n",
       "      <th>31</th>\n",
       "      <td>2011</td>\n",
       "      <td>0.000520</td>\n",
       "      <td>0.000715</td>\n",
       "      <td>0.001236</td>\n",
       "    </tr>\n",
       "    <tr>\n",
       "      <th>32</th>\n",
       "      <td>2012</td>\n",
       "      <td>0.000531</td>\n",
       "      <td>0.000730</td>\n",
       "      <td>0.001262</td>\n",
       "    </tr>\n",
       "    <tr>\n",
       "      <th>33</th>\n",
       "      <td>2013</td>\n",
       "      <td>0.000497</td>\n",
       "      <td>0.000697</td>\n",
       "      <td>0.001194</td>\n",
       "    </tr>\n",
       "    <tr>\n",
       "      <th>34</th>\n",
       "      <td>2014</td>\n",
       "      <td>0.000498</td>\n",
       "      <td>0.000688</td>\n",
       "      <td>0.001186</td>\n",
       "    </tr>\n",
       "    <tr>\n",
       "      <th>35</th>\n",
       "      <td>2015</td>\n",
       "      <td>0.000520</td>\n",
       "      <td>0.000705</td>\n",
       "      <td>0.001225</td>\n",
       "    </tr>\n",
       "    <tr>\n",
       "      <th>36</th>\n",
       "      <td>2016</td>\n",
       "      <td>0.000498</td>\n",
       "      <td>0.000670</td>\n",
       "      <td>0.001168</td>\n",
       "    </tr>\n",
       "    <tr>\n",
       "      <th>37</th>\n",
       "      <td>2017</td>\n",
       "      <td>0.000497</td>\n",
       "      <td>0.000661</td>\n",
       "      <td>0.001158</td>\n",
       "    </tr>\n",
       "    <tr>\n",
       "      <th>38</th>\n",
       "      <td>2018</td>\n",
       "      <td>0.000490</td>\n",
       "      <td>0.000642</td>\n",
       "      <td>0.001131</td>\n",
       "    </tr>\n",
       "  </tbody>\n",
       "</table>\n",
       "</div>"
      ],
      "text/plain": [
       "Sexo  Periodo   Hombres   Mujeres     Total\n",
       "0        1980  0.001063  0.001452  0.002537\n",
       "1        1981  0.001105  0.001494  0.002599\n",
       "2        1982  0.001029  0.001403  0.002433\n",
       "3        1983  0.001065  0.001469  0.002535\n",
       "4        1984  0.001051  0.001440  0.002490\n",
       "5        1985  0.001049  0.001431  0.002481\n",
       "6        1986  0.000981  0.001395  0.002376\n",
       "7        1987  0.000951  0.001349  0.002300\n",
       "8        1988  0.000958  0.001346  0.002305\n",
       "9        1989  0.000939  0.001321  0.002261\n",
       "10       1990  0.000910  0.001313  0.002225\n",
       "11       1991  0.000931  0.001330  0.002262\n",
       "12       1992  0.000881  0.001269  0.002150\n",
       "13       1993  0.000869  0.001260  0.002129\n",
       "14       1994  0.000837  0.001238  0.002082\n",
       "15       1995  0.000838  0.001174  0.002012\n",
       "16       1996  0.000800  0.001148  0.001948\n",
       "17       1997  0.000774  0.001116  0.001891\n",
       "18       1998  0.000782  0.001112  0.001895\n",
       "19       1999  0.000797  0.001123  0.001920\n",
       "20       2000  0.000741  0.001065  0.001807\n",
       "21       2001  0.000735  0.001060  0.001796\n",
       "22       2002  0.000724  0.001020  0.001744\n",
       "23       2003  0.000728  0.001044  0.001772\n",
       "24       2004  0.000665  0.000939  0.001604\n",
       "25       2005  0.000672  0.000926  0.001598\n",
       "26       2006  0.000627  0.000862  0.001489\n",
       "27       2007  0.000625  0.000843  0.001358\n",
       "28       2008  0.000587  0.000802  0.001389\n",
       "29       2009  0.000571  0.000775  0.001346\n",
       "30       2010  0.000543  0.000753  0.001297\n",
       "31       2011  0.000520  0.000715  0.001236\n",
       "32       2012  0.000531  0.000730  0.001262\n",
       "33       2013  0.000497  0.000697  0.001194\n",
       "34       2014  0.000498  0.000688  0.001186\n",
       "35       2015  0.000520  0.000705  0.001225\n",
       "36       2016  0.000498  0.000670  0.001168\n",
       "37       2017  0.000497  0.000661  0.001158\n",
       "38       2018  0.000490  0.000642  0.001131"
      ]
     },
     "execution_count": 204,
     "metadata": {},
     "output_type": "execute_result"
    }
   ],
   "source": [
    "# Example 3\n",
    "dataset1 = mod.pivot_table(dataset1,'Sexo','Periodo','ratio')\n",
    "dataset1"
   ]
  },
  {
   "cell_type": "markdown",
   "metadata": {},
   "source": [
    "## ...and finally, show me some insights with Plotly!!!"
   ]
  },
  {
   "cell_type": "code",
   "execution_count": 206,
   "metadata": {},
   "outputs": [
    {
     "data": {
      "application/vnd.plotly.v1+json": {
       "config": {
        "linkText": "Export to plot.ly",
        "plotlyServerURL": "https://plot.ly",
        "showLink": true
       },
       "data": [
        {
         "line": {
          "color": "rgba(255, 153, 51, 1.0)",
          "dash": "solid",
          "shape": "linear",
          "width": 1.3
         },
         "mode": "lines",
         "name": "Total",
         "text": "",
         "type": "scatter",
         "x": [
          1980,
          1981,
          1982,
          1983,
          1984,
          1985,
          1986,
          1987,
          1988,
          1989,
          1990,
          1991,
          1992,
          1993,
          1994,
          1995,
          1996,
          1997,
          1998,
          1999,
          2000,
          2001,
          2002,
          2003,
          2004,
          2005,
          2006,
          2007,
          2008,
          2009,
          2010,
          2011,
          2012,
          2013,
          2014,
          2015,
          2016,
          2017,
          2018
         ],
         "y": [
          0.002537412741195178,
          0.002598944300231064,
          0.0024325093074929966,
          0.002535382955428937,
          0.002489874982863909,
          0.0024811234113042997,
          0.0023760382457076712,
          0.0023001440732813836,
          0.0023048966058636096,
          0.0022609596587515384,
          0.002224925751524943,
          0.0022615925119756955,
          0.0021497385730271977,
          0.0021288190416813937,
          0.002082377655059989,
          0.0020122325715845363,
          0.0019482356082658595,
          0.001890596581395289,
          0.0018946081383254339,
          0.0019203395267381991,
          0.0018066372165045051,
          0.001796059647315758,
          0.0017437558809679356,
          0.0017718019025644391,
          0.0016039973292001958,
          0.0015983404031060726,
          0.001489139643788328,
          0.001358354818585982,
          0.001389297044630922,
          0.0013455596466869287,
          0.0012965412326807575,
          0.001235650527273987,
          0.0012617458138259431,
          0.0011936632654861023,
          0.0011862662882770787,
          0.0012246860893842513,
          0.001167854803530353,
          0.0011576843596277787,
          0.001131439127778243
         ]
        },
        {
         "line": {
          "color": "rgba(55, 128, 191, 1.0)",
          "dash": "solid",
          "shape": "linear",
          "width": 1.3
         },
         "mode": "lines",
         "name": "Hombres",
         "text": "",
         "type": "scatter",
         "x": [
          1980,
          1981,
          1982,
          1983,
          1984,
          1985,
          1986,
          1987,
          1988,
          1989,
          1990,
          1991,
          1992,
          1993,
          1994,
          1995,
          1996,
          1997,
          1998,
          1999,
          2000,
          2001,
          2002,
          2003,
          2004,
          2005,
          2006,
          2007,
          2008,
          2009,
          2010,
          2011,
          2012,
          2013,
          2014,
          2015,
          2016,
          2017,
          2018
         ],
         "y": [
          0.0010634952864518514,
          0.0011053338225651018,
          0.0010288789963961557,
          0.0010654892968843422,
          0.0010507175794367014,
          0.0010492377650564383,
          0.0009806086227154237,
          0.0009508489961520362,
          0.000957676668350541,
          0.0009390949225336867,
          0.0009095909473465379,
          0.0009308554621062211,
          0.000880775417920749,
          0.0008689379191452732,
          0.0008373304850038811,
          0.000838018604658196,
          0.0008000991810784988,
          0.0007744937716709483,
          0.0007820799433889904,
          0.0007969185913632767,
          0.0007414047551601879,
          0.0007353902466897554,
          0.0007241920479308513,
          0.0007281723310081185,
          0.0006651006211157434,
          0.0006720872474216224,
          0.0006269966365468835,
          0.0006251898036475226,
          0.0005869805108460901,
          0.0005708434864732425,
          0.0005429821226435453,
          0.0005203877305065193,
          0.0005314762304206873,
          0.0004967363981441886,
          0.0004978308399590127,
          0.0005201394438927521,
          0.0004975779301559053,
          0.0004966263237655468,
          0.0004897241872178282
         ]
        },
        {
         "line": {
          "color": "rgba(50, 171, 96, 1.0)",
          "dash": "solid",
          "shape": "linear",
          "width": 1.3
         },
         "mode": "lines",
         "name": "Mujeres",
         "text": "",
         "type": "scatter",
         "x": [
          1980,
          1981,
          1982,
          1983,
          1984,
          1985,
          1986,
          1987,
          1988,
          1989,
          1990,
          1991,
          1992,
          1993,
          1994,
          1995,
          1996,
          1997,
          1998,
          1999,
          2000,
          2001,
          2002,
          2003,
          2004,
          2005,
          2006,
          2007,
          2008,
          2009,
          2010,
          2011,
          2012,
          2013,
          2014,
          2015,
          2016,
          2017,
          2018
         ],
         "y": [
          0.001452217832354169,
          0.0014936104776659624,
          0.0014033930599831447,
          0.001468949401376365,
          0.0014396797456903564,
          0.0014312872711276954,
          0.0013954296229922477,
          0.0013492950771293475,
          0.001346497318489844,
          0.0013214524908611645,
          0.0013134303867354546,
          0.001330402958568644,
          0.0012685027927880049,
          0.0012597793674077001,
          0.001238186917873744,
          0.0011741383607729065,
          0.0011480109450536322,
          0.0011157529028957814,
          0.001111955753135917,
          0.0011233465612646692,
          0.001065207777473124,
          0.0010603992352157567,
          0.0010195638330370844,
          0.0010438437958953332,
          0.0009389201254712953,
          0.0009263451531175377,
          0.0008620298472940457,
          0.000842606556259273,
          0.0008022074255445914,
          0.0007748457403029279,
          0.0007534516398997243,
          0.0007152627967674678,
          0.0007301627282380957,
          0.0006967768477204187,
          0.0006884999871245082,
          0.0007045466454914991,
          0.0006701476882779123,
          0.0006610365443301319,
          0.0006416935243629591
         ]
        }
       ],
       "layout": {
        "legend": {
         "bgcolor": "#F5F6F9",
         "font": {
          "color": "#4D5663"
         }
        },
        "paper_bgcolor": "#F5F6F9",
        "plot_bgcolor": "#F5F6F9",
        "template": {
         "data": {
          "bar": [
           {
            "error_x": {
             "color": "#2a3f5f"
            },
            "error_y": {
             "color": "#2a3f5f"
            },
            "marker": {
             "line": {
              "color": "#E5ECF6",
              "width": 0.5
             },
             "pattern": {
              "fillmode": "overlay",
              "size": 10,
              "solidity": 0.2
             }
            },
            "type": "bar"
           }
          ],
          "barpolar": [
           {
            "marker": {
             "line": {
              "color": "#E5ECF6",
              "width": 0.5
             },
             "pattern": {
              "fillmode": "overlay",
              "size": 10,
              "solidity": 0.2
             }
            },
            "type": "barpolar"
           }
          ],
          "carpet": [
           {
            "aaxis": {
             "endlinecolor": "#2a3f5f",
             "gridcolor": "white",
             "linecolor": "white",
             "minorgridcolor": "white",
             "startlinecolor": "#2a3f5f"
            },
            "baxis": {
             "endlinecolor": "#2a3f5f",
             "gridcolor": "white",
             "linecolor": "white",
             "minorgridcolor": "white",
             "startlinecolor": "#2a3f5f"
            },
            "type": "carpet"
           }
          ],
          "choropleth": [
           {
            "colorbar": {
             "outlinewidth": 0,
             "ticks": ""
            },
            "type": "choropleth"
           }
          ],
          "contour": [
           {
            "colorbar": {
             "outlinewidth": 0,
             "ticks": ""
            },
            "colorscale": [
             [
              0,
              "#0d0887"
             ],
             [
              0.1111111111111111,
              "#46039f"
             ],
             [
              0.2222222222222222,
              "#7201a8"
             ],
             [
              0.3333333333333333,
              "#9c179e"
             ],
             [
              0.4444444444444444,
              "#bd3786"
             ],
             [
              0.5555555555555556,
              "#d8576b"
             ],
             [
              0.6666666666666666,
              "#ed7953"
             ],
             [
              0.7777777777777778,
              "#fb9f3a"
             ],
             [
              0.8888888888888888,
              "#fdca26"
             ],
             [
              1,
              "#f0f921"
             ]
            ],
            "type": "contour"
           }
          ],
          "contourcarpet": [
           {
            "colorbar": {
             "outlinewidth": 0,
             "ticks": ""
            },
            "type": "contourcarpet"
           }
          ],
          "heatmap": [
           {
            "colorbar": {
             "outlinewidth": 0,
             "ticks": ""
            },
            "colorscale": [
             [
              0,
              "#0d0887"
             ],
             [
              0.1111111111111111,
              "#46039f"
             ],
             [
              0.2222222222222222,
              "#7201a8"
             ],
             [
              0.3333333333333333,
              "#9c179e"
             ],
             [
              0.4444444444444444,
              "#bd3786"
             ],
             [
              0.5555555555555556,
              "#d8576b"
             ],
             [
              0.6666666666666666,
              "#ed7953"
             ],
             [
              0.7777777777777778,
              "#fb9f3a"
             ],
             [
              0.8888888888888888,
              "#fdca26"
             ],
             [
              1,
              "#f0f921"
             ]
            ],
            "type": "heatmap"
           }
          ],
          "heatmapgl": [
           {
            "colorbar": {
             "outlinewidth": 0,
             "ticks": ""
            },
            "colorscale": [
             [
              0,
              "#0d0887"
             ],
             [
              0.1111111111111111,
              "#46039f"
             ],
             [
              0.2222222222222222,
              "#7201a8"
             ],
             [
              0.3333333333333333,
              "#9c179e"
             ],
             [
              0.4444444444444444,
              "#bd3786"
             ],
             [
              0.5555555555555556,
              "#d8576b"
             ],
             [
              0.6666666666666666,
              "#ed7953"
             ],
             [
              0.7777777777777778,
              "#fb9f3a"
             ],
             [
              0.8888888888888888,
              "#fdca26"
             ],
             [
              1,
              "#f0f921"
             ]
            ],
            "type": "heatmapgl"
           }
          ],
          "histogram": [
           {
            "marker": {
             "pattern": {
              "fillmode": "overlay",
              "size": 10,
              "solidity": 0.2
             }
            },
            "type": "histogram"
           }
          ],
          "histogram2d": [
           {
            "colorbar": {
             "outlinewidth": 0,
             "ticks": ""
            },
            "colorscale": [
             [
              0,
              "#0d0887"
             ],
             [
              0.1111111111111111,
              "#46039f"
             ],
             [
              0.2222222222222222,
              "#7201a8"
             ],
             [
              0.3333333333333333,
              "#9c179e"
             ],
             [
              0.4444444444444444,
              "#bd3786"
             ],
             [
              0.5555555555555556,
              "#d8576b"
             ],
             [
              0.6666666666666666,
              "#ed7953"
             ],
             [
              0.7777777777777778,
              "#fb9f3a"
             ],
             [
              0.8888888888888888,
              "#fdca26"
             ],
             [
              1,
              "#f0f921"
             ]
            ],
            "type": "histogram2d"
           }
          ],
          "histogram2dcontour": [
           {
            "colorbar": {
             "outlinewidth": 0,
             "ticks": ""
            },
            "colorscale": [
             [
              0,
              "#0d0887"
             ],
             [
              0.1111111111111111,
              "#46039f"
             ],
             [
              0.2222222222222222,
              "#7201a8"
             ],
             [
              0.3333333333333333,
              "#9c179e"
             ],
             [
              0.4444444444444444,
              "#bd3786"
             ],
             [
              0.5555555555555556,
              "#d8576b"
             ],
             [
              0.6666666666666666,
              "#ed7953"
             ],
             [
              0.7777777777777778,
              "#fb9f3a"
             ],
             [
              0.8888888888888888,
              "#fdca26"
             ],
             [
              1,
              "#f0f921"
             ]
            ],
            "type": "histogram2dcontour"
           }
          ],
          "mesh3d": [
           {
            "colorbar": {
             "outlinewidth": 0,
             "ticks": ""
            },
            "type": "mesh3d"
           }
          ],
          "parcoords": [
           {
            "line": {
             "colorbar": {
              "outlinewidth": 0,
              "ticks": ""
             }
            },
            "type": "parcoords"
           }
          ],
          "pie": [
           {
            "automargin": true,
            "type": "pie"
           }
          ],
          "scatter": [
           {
            "fillpattern": {
             "fillmode": "overlay",
             "size": 10,
             "solidity": 0.2
            },
            "type": "scatter"
           }
          ],
          "scatter3d": [
           {
            "line": {
             "colorbar": {
              "outlinewidth": 0,
              "ticks": ""
             }
            },
            "marker": {
             "colorbar": {
              "outlinewidth": 0,
              "ticks": ""
             }
            },
            "type": "scatter3d"
           }
          ],
          "scattercarpet": [
           {
            "marker": {
             "colorbar": {
              "outlinewidth": 0,
              "ticks": ""
             }
            },
            "type": "scattercarpet"
           }
          ],
          "scattergeo": [
           {
            "marker": {
             "colorbar": {
              "outlinewidth": 0,
              "ticks": ""
             }
            },
            "type": "scattergeo"
           }
          ],
          "scattergl": [
           {
            "marker": {
             "colorbar": {
              "outlinewidth": 0,
              "ticks": ""
             }
            },
            "type": "scattergl"
           }
          ],
          "scattermapbox": [
           {
            "marker": {
             "colorbar": {
              "outlinewidth": 0,
              "ticks": ""
             }
            },
            "type": "scattermapbox"
           }
          ],
          "scatterpolar": [
           {
            "marker": {
             "colorbar": {
              "outlinewidth": 0,
              "ticks": ""
             }
            },
            "type": "scatterpolar"
           }
          ],
          "scatterpolargl": [
           {
            "marker": {
             "colorbar": {
              "outlinewidth": 0,
              "ticks": ""
             }
            },
            "type": "scatterpolargl"
           }
          ],
          "scatterternary": [
           {
            "marker": {
             "colorbar": {
              "outlinewidth": 0,
              "ticks": ""
             }
            },
            "type": "scatterternary"
           }
          ],
          "surface": [
           {
            "colorbar": {
             "outlinewidth": 0,
             "ticks": ""
            },
            "colorscale": [
             [
              0,
              "#0d0887"
             ],
             [
              0.1111111111111111,
              "#46039f"
             ],
             [
              0.2222222222222222,
              "#7201a8"
             ],
             [
              0.3333333333333333,
              "#9c179e"
             ],
             [
              0.4444444444444444,
              "#bd3786"
             ],
             [
              0.5555555555555556,
              "#d8576b"
             ],
             [
              0.6666666666666666,
              "#ed7953"
             ],
             [
              0.7777777777777778,
              "#fb9f3a"
             ],
             [
              0.8888888888888888,
              "#fdca26"
             ],
             [
              1,
              "#f0f921"
             ]
            ],
            "type": "surface"
           }
          ],
          "table": [
           {
            "cells": {
             "fill": {
              "color": "#EBF0F8"
             },
             "line": {
              "color": "white"
             }
            },
            "header": {
             "fill": {
              "color": "#C8D4E3"
             },
             "line": {
              "color": "white"
             }
            },
            "type": "table"
           }
          ]
         },
         "layout": {
          "annotationdefaults": {
           "arrowcolor": "#2a3f5f",
           "arrowhead": 0,
           "arrowwidth": 1
          },
          "autotypenumbers": "strict",
          "coloraxis": {
           "colorbar": {
            "outlinewidth": 0,
            "ticks": ""
           }
          },
          "colorscale": {
           "diverging": [
            [
             0,
             "#8e0152"
            ],
            [
             0.1,
             "#c51b7d"
            ],
            [
             0.2,
             "#de77ae"
            ],
            [
             0.3,
             "#f1b6da"
            ],
            [
             0.4,
             "#fde0ef"
            ],
            [
             0.5,
             "#f7f7f7"
            ],
            [
             0.6,
             "#e6f5d0"
            ],
            [
             0.7,
             "#b8e186"
            ],
            [
             0.8,
             "#7fbc41"
            ],
            [
             0.9,
             "#4d9221"
            ],
            [
             1,
             "#276419"
            ]
           ],
           "sequential": [
            [
             0,
             "#0d0887"
            ],
            [
             0.1111111111111111,
             "#46039f"
            ],
            [
             0.2222222222222222,
             "#7201a8"
            ],
            [
             0.3333333333333333,
             "#9c179e"
            ],
            [
             0.4444444444444444,
             "#bd3786"
            ],
            [
             0.5555555555555556,
             "#d8576b"
            ],
            [
             0.6666666666666666,
             "#ed7953"
            ],
            [
             0.7777777777777778,
             "#fb9f3a"
            ],
            [
             0.8888888888888888,
             "#fdca26"
            ],
            [
             1,
             "#f0f921"
            ]
           ],
           "sequentialminus": [
            [
             0,
             "#0d0887"
            ],
            [
             0.1111111111111111,
             "#46039f"
            ],
            [
             0.2222222222222222,
             "#7201a8"
            ],
            [
             0.3333333333333333,
             "#9c179e"
            ],
            [
             0.4444444444444444,
             "#bd3786"
            ],
            [
             0.5555555555555556,
             "#d8576b"
            ],
            [
             0.6666666666666666,
             "#ed7953"
            ],
            [
             0.7777777777777778,
             "#fb9f3a"
            ],
            [
             0.8888888888888888,
             "#fdca26"
            ],
            [
             1,
             "#f0f921"
            ]
           ]
          },
          "colorway": [
           "#636efa",
           "#EF553B",
           "#00cc96",
           "#ab63fa",
           "#FFA15A",
           "#19d3f3",
           "#FF6692",
           "#B6E880",
           "#FF97FF",
           "#FECB52"
          ],
          "font": {
           "color": "#2a3f5f"
          },
          "geo": {
           "bgcolor": "white",
           "lakecolor": "white",
           "landcolor": "#E5ECF6",
           "showlakes": true,
           "showland": true,
           "subunitcolor": "white"
          },
          "hoverlabel": {
           "align": "left"
          },
          "hovermode": "closest",
          "mapbox": {
           "style": "light"
          },
          "paper_bgcolor": "white",
          "plot_bgcolor": "#E5ECF6",
          "polar": {
           "angularaxis": {
            "gridcolor": "white",
            "linecolor": "white",
            "ticks": ""
           },
           "bgcolor": "#E5ECF6",
           "radialaxis": {
            "gridcolor": "white",
            "linecolor": "white",
            "ticks": ""
           }
          },
          "scene": {
           "xaxis": {
            "backgroundcolor": "#E5ECF6",
            "gridcolor": "white",
            "gridwidth": 2,
            "linecolor": "white",
            "showbackground": true,
            "ticks": "",
            "zerolinecolor": "white"
           },
           "yaxis": {
            "backgroundcolor": "#E5ECF6",
            "gridcolor": "white",
            "gridwidth": 2,
            "linecolor": "white",
            "showbackground": true,
            "ticks": "",
            "zerolinecolor": "white"
           },
           "zaxis": {
            "backgroundcolor": "#E5ECF6",
            "gridcolor": "white",
            "gridwidth": 2,
            "linecolor": "white",
            "showbackground": true,
            "ticks": "",
            "zerolinecolor": "white"
           }
          },
          "shapedefaults": {
           "line": {
            "color": "#2a3f5f"
           }
          },
          "ternary": {
           "aaxis": {
            "gridcolor": "white",
            "linecolor": "white",
            "ticks": ""
           },
           "baxis": {
            "gridcolor": "white",
            "linecolor": "white",
            "ticks": ""
           },
           "bgcolor": "#E5ECF6",
           "caxis": {
            "gridcolor": "white",
            "linecolor": "white",
            "ticks": ""
           }
          },
          "title": {
           "x": 0.05
          },
          "xaxis": {
           "automargin": true,
           "gridcolor": "white",
           "linecolor": "white",
           "ticks": "",
           "title": {
            "standoff": 15
           },
           "zerolinecolor": "white",
           "zerolinewidth": 2
          },
          "yaxis": {
           "automargin": true,
           "gridcolor": "white",
           "linecolor": "white",
           "ticks": "",
           "title": {
            "standoff": 15
           },
           "zerolinecolor": "white",
           "zerolinewidth": 2
          }
         }
        },
        "title": {
         "font": {
          "color": "#4D5663"
         },
         "text": "Cardio evolution"
        },
        "xaxis": {
         "gridcolor": "#E1E5ED",
         "showgrid": true,
         "tickfont": {
          "color": "#4D5663"
         },
         "title": {
          "font": {
           "color": "#4D5663"
          },
          "text": "Periodo"
         },
         "zerolinecolor": "#E1E5ED"
        },
        "yaxis": {
         "gridcolor": "#E1E5ED",
         "showgrid": true,
         "tickfont": {
          "color": "#4D5663"
         },
         "title": {
          "font": {
           "color": "#4D5663"
          },
          "text": "Total"
         },
         "zerolinecolor": "#E1E5ED"
        }
       }
      },
      "text/html": [
       "<div>                            <div id=\"844918fb-e93c-40cd-9be5-e3ba7c49d3ab\" class=\"plotly-graph-div\" style=\"height:525px; width:100%;\"></div>            <script type=\"text/javascript\">                require([\"plotly\"], function(Plotly) {                    window.PLOTLYENV=window.PLOTLYENV || {};\n",
       "                    window.PLOTLYENV.BASE_URL='https://plot.ly';                                    if (document.getElementById(\"844918fb-e93c-40cd-9be5-e3ba7c49d3ab\")) {                    Plotly.newPlot(                        \"844918fb-e93c-40cd-9be5-e3ba7c49d3ab\",                        [{\"line\":{\"color\":\"rgba(255, 153, 51, 1.0)\",\"dash\":\"solid\",\"shape\":\"linear\",\"width\":1.3},\"mode\":\"lines\",\"name\":\"Total\",\"text\":\"\",\"x\":[1980,1981,1982,1983,1984,1985,1986,1987,1988,1989,1990,1991,1992,1993,1994,1995,1996,1997,1998,1999,2000,2001,2002,2003,2004,2005,2006,2007,2008,2009,2010,2011,2012,2013,2014,2015,2016,2017,2018],\"y\":[0.002537412741195178,0.002598944300231064,0.0024325093074929966,0.002535382955428937,0.002489874982863909,0.0024811234113042997,0.0023760382457076712,0.0023001440732813836,0.0023048966058636096,0.0022609596587515384,0.002224925751524943,0.0022615925119756955,0.0021497385730271977,0.0021288190416813937,0.002082377655059989,0.0020122325715845363,0.0019482356082658595,0.001890596581395289,0.0018946081383254339,0.0019203395267381991,0.0018066372165045051,0.001796059647315758,0.0017437558809679356,0.0017718019025644391,0.0016039973292001958,0.0015983404031060726,0.001489139643788328,0.001358354818585982,0.001389297044630922,0.0013455596466869287,0.0012965412326807575,0.001235650527273987,0.0012617458138259431,0.0011936632654861023,0.0011862662882770787,0.0012246860893842513,0.001167854803530353,0.0011576843596277787,0.001131439127778243],\"type\":\"scatter\"},{\"line\":{\"color\":\"rgba(55, 128, 191, 1.0)\",\"dash\":\"solid\",\"shape\":\"linear\",\"width\":1.3},\"mode\":\"lines\",\"name\":\"Hombres\",\"text\":\"\",\"x\":[1980,1981,1982,1983,1984,1985,1986,1987,1988,1989,1990,1991,1992,1993,1994,1995,1996,1997,1998,1999,2000,2001,2002,2003,2004,2005,2006,2007,2008,2009,2010,2011,2012,2013,2014,2015,2016,2017,2018],\"y\":[0.0010634952864518514,0.0011053338225651018,0.0010288789963961557,0.0010654892968843422,0.0010507175794367014,0.0010492377650564383,0.0009806086227154237,0.0009508489961520362,0.000957676668350541,0.0009390949225336867,0.0009095909473465379,0.0009308554621062211,0.000880775417920749,0.0008689379191452732,0.0008373304850038811,0.000838018604658196,0.0008000991810784988,0.0007744937716709483,0.0007820799433889904,0.0007969185913632767,0.0007414047551601879,0.0007353902466897554,0.0007241920479308513,0.0007281723310081185,0.0006651006211157434,0.0006720872474216224,0.0006269966365468835,0.0006251898036475226,0.0005869805108460901,0.0005708434864732425,0.0005429821226435453,0.0005203877305065193,0.0005314762304206873,0.0004967363981441886,0.0004978308399590127,0.0005201394438927521,0.0004975779301559053,0.0004966263237655468,0.0004897241872178282],\"type\":\"scatter\"},{\"line\":{\"color\":\"rgba(50, 171, 96, 1.0)\",\"dash\":\"solid\",\"shape\":\"linear\",\"width\":1.3},\"mode\":\"lines\",\"name\":\"Mujeres\",\"text\":\"\",\"x\":[1980,1981,1982,1983,1984,1985,1986,1987,1988,1989,1990,1991,1992,1993,1994,1995,1996,1997,1998,1999,2000,2001,2002,2003,2004,2005,2006,2007,2008,2009,2010,2011,2012,2013,2014,2015,2016,2017,2018],\"y\":[0.001452217832354169,0.0014936104776659624,0.0014033930599831447,0.001468949401376365,0.0014396797456903564,0.0014312872711276954,0.0013954296229922477,0.0013492950771293475,0.001346497318489844,0.0013214524908611645,0.0013134303867354546,0.001330402958568644,0.0012685027927880049,0.0012597793674077001,0.001238186917873744,0.0011741383607729065,0.0011480109450536322,0.0011157529028957814,0.001111955753135917,0.0011233465612646692,0.001065207777473124,0.0010603992352157567,0.0010195638330370844,0.0010438437958953332,0.0009389201254712953,0.0009263451531175377,0.0008620298472940457,0.000842606556259273,0.0008022074255445914,0.0007748457403029279,0.0007534516398997243,0.0007152627967674678,0.0007301627282380957,0.0006967768477204187,0.0006884999871245082,0.0007045466454914991,0.0006701476882779123,0.0006610365443301319,0.0006416935243629591],\"type\":\"scatter\"}],                        {\"legend\":{\"bgcolor\":\"#F5F6F9\",\"font\":{\"color\":\"#4D5663\"}},\"paper_bgcolor\":\"#F5F6F9\",\"plot_bgcolor\":\"#F5F6F9\",\"template\":{\"data\":{\"barpolar\":[{\"marker\":{\"line\":{\"color\":\"#E5ECF6\",\"width\":0.5},\"pattern\":{\"fillmode\":\"overlay\",\"size\":10,\"solidity\":0.2}},\"type\":\"barpolar\"}],\"bar\":[{\"error_x\":{\"color\":\"#2a3f5f\"},\"error_y\":{\"color\":\"#2a3f5f\"},\"marker\":{\"line\":{\"color\":\"#E5ECF6\",\"width\":0.5},\"pattern\":{\"fillmode\":\"overlay\",\"size\":10,\"solidity\":0.2}},\"type\":\"bar\"}],\"carpet\":[{\"aaxis\":{\"endlinecolor\":\"#2a3f5f\",\"gridcolor\":\"white\",\"linecolor\":\"white\",\"minorgridcolor\":\"white\",\"startlinecolor\":\"#2a3f5f\"},\"baxis\":{\"endlinecolor\":\"#2a3f5f\",\"gridcolor\":\"white\",\"linecolor\":\"white\",\"minorgridcolor\":\"white\",\"startlinecolor\":\"#2a3f5f\"},\"type\":\"carpet\"}],\"choropleth\":[{\"colorbar\":{\"outlinewidth\":0,\"ticks\":\"\"},\"type\":\"choropleth\"}],\"contourcarpet\":[{\"colorbar\":{\"outlinewidth\":0,\"ticks\":\"\"},\"type\":\"contourcarpet\"}],\"contour\":[{\"colorbar\":{\"outlinewidth\":0,\"ticks\":\"\"},\"colorscale\":[[0.0,\"#0d0887\"],[0.1111111111111111,\"#46039f\"],[0.2222222222222222,\"#7201a8\"],[0.3333333333333333,\"#9c179e\"],[0.4444444444444444,\"#bd3786\"],[0.5555555555555556,\"#d8576b\"],[0.6666666666666666,\"#ed7953\"],[0.7777777777777778,\"#fb9f3a\"],[0.8888888888888888,\"#fdca26\"],[1.0,\"#f0f921\"]],\"type\":\"contour\"}],\"heatmapgl\":[{\"colorbar\":{\"outlinewidth\":0,\"ticks\":\"\"},\"colorscale\":[[0.0,\"#0d0887\"],[0.1111111111111111,\"#46039f\"],[0.2222222222222222,\"#7201a8\"],[0.3333333333333333,\"#9c179e\"],[0.4444444444444444,\"#bd3786\"],[0.5555555555555556,\"#d8576b\"],[0.6666666666666666,\"#ed7953\"],[0.7777777777777778,\"#fb9f3a\"],[0.8888888888888888,\"#fdca26\"],[1.0,\"#f0f921\"]],\"type\":\"heatmapgl\"}],\"heatmap\":[{\"colorbar\":{\"outlinewidth\":0,\"ticks\":\"\"},\"colorscale\":[[0.0,\"#0d0887\"],[0.1111111111111111,\"#46039f\"],[0.2222222222222222,\"#7201a8\"],[0.3333333333333333,\"#9c179e\"],[0.4444444444444444,\"#bd3786\"],[0.5555555555555556,\"#d8576b\"],[0.6666666666666666,\"#ed7953\"],[0.7777777777777778,\"#fb9f3a\"],[0.8888888888888888,\"#fdca26\"],[1.0,\"#f0f921\"]],\"type\":\"heatmap\"}],\"histogram2dcontour\":[{\"colorbar\":{\"outlinewidth\":0,\"ticks\":\"\"},\"colorscale\":[[0.0,\"#0d0887\"],[0.1111111111111111,\"#46039f\"],[0.2222222222222222,\"#7201a8\"],[0.3333333333333333,\"#9c179e\"],[0.4444444444444444,\"#bd3786\"],[0.5555555555555556,\"#d8576b\"],[0.6666666666666666,\"#ed7953\"],[0.7777777777777778,\"#fb9f3a\"],[0.8888888888888888,\"#fdca26\"],[1.0,\"#f0f921\"]],\"type\":\"histogram2dcontour\"}],\"histogram2d\":[{\"colorbar\":{\"outlinewidth\":0,\"ticks\":\"\"},\"colorscale\":[[0.0,\"#0d0887\"],[0.1111111111111111,\"#46039f\"],[0.2222222222222222,\"#7201a8\"],[0.3333333333333333,\"#9c179e\"],[0.4444444444444444,\"#bd3786\"],[0.5555555555555556,\"#d8576b\"],[0.6666666666666666,\"#ed7953\"],[0.7777777777777778,\"#fb9f3a\"],[0.8888888888888888,\"#fdca26\"],[1.0,\"#f0f921\"]],\"type\":\"histogram2d\"}],\"histogram\":[{\"marker\":{\"pattern\":{\"fillmode\":\"overlay\",\"size\":10,\"solidity\":0.2}},\"type\":\"histogram\"}],\"mesh3d\":[{\"colorbar\":{\"outlinewidth\":0,\"ticks\":\"\"},\"type\":\"mesh3d\"}],\"parcoords\":[{\"line\":{\"colorbar\":{\"outlinewidth\":0,\"ticks\":\"\"}},\"type\":\"parcoords\"}],\"pie\":[{\"automargin\":true,\"type\":\"pie\"}],\"scatter3d\":[{\"line\":{\"colorbar\":{\"outlinewidth\":0,\"ticks\":\"\"}},\"marker\":{\"colorbar\":{\"outlinewidth\":0,\"ticks\":\"\"}},\"type\":\"scatter3d\"}],\"scattercarpet\":[{\"marker\":{\"colorbar\":{\"outlinewidth\":0,\"ticks\":\"\"}},\"type\":\"scattercarpet\"}],\"scattergeo\":[{\"marker\":{\"colorbar\":{\"outlinewidth\":0,\"ticks\":\"\"}},\"type\":\"scattergeo\"}],\"scattergl\":[{\"marker\":{\"colorbar\":{\"outlinewidth\":0,\"ticks\":\"\"}},\"type\":\"scattergl\"}],\"scattermapbox\":[{\"marker\":{\"colorbar\":{\"outlinewidth\":0,\"ticks\":\"\"}},\"type\":\"scattermapbox\"}],\"scatterpolargl\":[{\"marker\":{\"colorbar\":{\"outlinewidth\":0,\"ticks\":\"\"}},\"type\":\"scatterpolargl\"}],\"scatterpolar\":[{\"marker\":{\"colorbar\":{\"outlinewidth\":0,\"ticks\":\"\"}},\"type\":\"scatterpolar\"}],\"scatter\":[{\"fillpattern\":{\"fillmode\":\"overlay\",\"size\":10,\"solidity\":0.2},\"type\":\"scatter\"}],\"scatterternary\":[{\"marker\":{\"colorbar\":{\"outlinewidth\":0,\"ticks\":\"\"}},\"type\":\"scatterternary\"}],\"surface\":[{\"colorbar\":{\"outlinewidth\":0,\"ticks\":\"\"},\"colorscale\":[[0.0,\"#0d0887\"],[0.1111111111111111,\"#46039f\"],[0.2222222222222222,\"#7201a8\"],[0.3333333333333333,\"#9c179e\"],[0.4444444444444444,\"#bd3786\"],[0.5555555555555556,\"#d8576b\"],[0.6666666666666666,\"#ed7953\"],[0.7777777777777778,\"#fb9f3a\"],[0.8888888888888888,\"#fdca26\"],[1.0,\"#f0f921\"]],\"type\":\"surface\"}],\"table\":[{\"cells\":{\"fill\":{\"color\":\"#EBF0F8\"},\"line\":{\"color\":\"white\"}},\"header\":{\"fill\":{\"color\":\"#C8D4E3\"},\"line\":{\"color\":\"white\"}},\"type\":\"table\"}]},\"layout\":{\"annotationdefaults\":{\"arrowcolor\":\"#2a3f5f\",\"arrowhead\":0,\"arrowwidth\":1},\"autotypenumbers\":\"strict\",\"coloraxis\":{\"colorbar\":{\"outlinewidth\":0,\"ticks\":\"\"}},\"colorscale\":{\"diverging\":[[0,\"#8e0152\"],[0.1,\"#c51b7d\"],[0.2,\"#de77ae\"],[0.3,\"#f1b6da\"],[0.4,\"#fde0ef\"],[0.5,\"#f7f7f7\"],[0.6,\"#e6f5d0\"],[0.7,\"#b8e186\"],[0.8,\"#7fbc41\"],[0.9,\"#4d9221\"],[1,\"#276419\"]],\"sequential\":[[0.0,\"#0d0887\"],[0.1111111111111111,\"#46039f\"],[0.2222222222222222,\"#7201a8\"],[0.3333333333333333,\"#9c179e\"],[0.4444444444444444,\"#bd3786\"],[0.5555555555555556,\"#d8576b\"],[0.6666666666666666,\"#ed7953\"],[0.7777777777777778,\"#fb9f3a\"],[0.8888888888888888,\"#fdca26\"],[1.0,\"#f0f921\"]],\"sequentialminus\":[[0.0,\"#0d0887\"],[0.1111111111111111,\"#46039f\"],[0.2222222222222222,\"#7201a8\"],[0.3333333333333333,\"#9c179e\"],[0.4444444444444444,\"#bd3786\"],[0.5555555555555556,\"#d8576b\"],[0.6666666666666666,\"#ed7953\"],[0.7777777777777778,\"#fb9f3a\"],[0.8888888888888888,\"#fdca26\"],[1.0,\"#f0f921\"]]},\"colorway\":[\"#636efa\",\"#EF553B\",\"#00cc96\",\"#ab63fa\",\"#FFA15A\",\"#19d3f3\",\"#FF6692\",\"#B6E880\",\"#FF97FF\",\"#FECB52\"],\"font\":{\"color\":\"#2a3f5f\"},\"geo\":{\"bgcolor\":\"white\",\"lakecolor\":\"white\",\"landcolor\":\"#E5ECF6\",\"showlakes\":true,\"showland\":true,\"subunitcolor\":\"white\"},\"hoverlabel\":{\"align\":\"left\"},\"hovermode\":\"closest\",\"mapbox\":{\"style\":\"light\"},\"paper_bgcolor\":\"white\",\"plot_bgcolor\":\"#E5ECF6\",\"polar\":{\"angularaxis\":{\"gridcolor\":\"white\",\"linecolor\":\"white\",\"ticks\":\"\"},\"bgcolor\":\"#E5ECF6\",\"radialaxis\":{\"gridcolor\":\"white\",\"linecolor\":\"white\",\"ticks\":\"\"}},\"scene\":{\"xaxis\":{\"backgroundcolor\":\"#E5ECF6\",\"gridcolor\":\"white\",\"gridwidth\":2,\"linecolor\":\"white\",\"showbackground\":true,\"ticks\":\"\",\"zerolinecolor\":\"white\"},\"yaxis\":{\"backgroundcolor\":\"#E5ECF6\",\"gridcolor\":\"white\",\"gridwidth\":2,\"linecolor\":\"white\",\"showbackground\":true,\"ticks\":\"\",\"zerolinecolor\":\"white\"},\"zaxis\":{\"backgroundcolor\":\"#E5ECF6\",\"gridcolor\":\"white\",\"gridwidth\":2,\"linecolor\":\"white\",\"showbackground\":true,\"ticks\":\"\",\"zerolinecolor\":\"white\"}},\"shapedefaults\":{\"line\":{\"color\":\"#2a3f5f\"}},\"ternary\":{\"aaxis\":{\"gridcolor\":\"white\",\"linecolor\":\"white\",\"ticks\":\"\"},\"baxis\":{\"gridcolor\":\"white\",\"linecolor\":\"white\",\"ticks\":\"\"},\"bgcolor\":\"#E5ECF6\",\"caxis\":{\"gridcolor\":\"white\",\"linecolor\":\"white\",\"ticks\":\"\"}},\"title\":{\"x\":0.05},\"xaxis\":{\"automargin\":true,\"gridcolor\":\"white\",\"linecolor\":\"white\",\"ticks\":\"\",\"title\":{\"standoff\":15},\"zerolinecolor\":\"white\",\"zerolinewidth\":2},\"yaxis\":{\"automargin\":true,\"gridcolor\":\"white\",\"linecolor\":\"white\",\"ticks\":\"\",\"title\":{\"standoff\":15},\"zerolinecolor\":\"white\",\"zerolinewidth\":2}}},\"title\":{\"font\":{\"color\":\"#4D5663\"},\"text\":\"Cardio evolution\"},\"xaxis\":{\"gridcolor\":\"#E1E5ED\",\"showgrid\":true,\"tickfont\":{\"color\":\"#4D5663\"},\"title\":{\"font\":{\"color\":\"#4D5663\"},\"text\":\"Periodo\"},\"zerolinecolor\":\"#E1E5ED\"},\"yaxis\":{\"gridcolor\":\"#E1E5ED\",\"showgrid\":true,\"tickfont\":{\"color\":\"#4D5663\"},\"title\":{\"font\":{\"color\":\"#4D5663\"},\"text\":\"Total\"},\"zerolinecolor\":\"#E1E5ED\"}},                        {\"showLink\": true, \"linkText\": \"Export to plot.ly\", \"plotlyServerURL\": \"https://plot.ly\", \"responsive\": true}                    ).then(function(){\n",
       "                            \n",
       "var gd = document.getElementById('844918fb-e93c-40cd-9be5-e3ba7c49d3ab');\n",
       "var x = new MutationObserver(function (mutations, observer) {{\n",
       "        var display = window.getComputedStyle(gd).display;\n",
       "        if (!display || display === 'none') {{\n",
       "            console.log([gd, 'removed!']);\n",
       "            Plotly.purge(gd);\n",
       "            observer.disconnect();\n",
       "        }}\n",
       "}});\n",
       "\n",
       "// Listen for the removal of the full notebook cells\n",
       "var notebookContainer = gd.closest('#notebook-container');\n",
       "if (notebookContainer) {{\n",
       "    x.observe(notebookContainer, {childList: true});\n",
       "}}\n",
       "\n",
       "// Listen for the clearing of the current output cell\n",
       "var outputEl = gd.closest('.output');\n",
       "if (outputEl) {{\n",
       "    x.observe(outputEl, {childList: true});\n",
       "}}\n",
       "\n",
       "                        })                };                });            </script>        </div>"
      ]
     },
     "metadata": {},
     "output_type": "display_data"
    }
   ],
   "source": [
    "# Cufflinks histogram\n",
    "dataset1.iplot(kind='line',\n",
    "                     title='Cardio evolution',\n",
    "                     x='Periodo',\n",
    "                     y=['Total','Hombres','Mujeres'],\n",
    "                     yTitle='Total',\n",
    "                     xTitle='Periodo')"
   ]
  },
  {
   "cell_type": "code",
   "execution_count": 75,
   "metadata": {},
   "outputs": [
    {
     "ename": "NameError",
     "evalue": "name 'dataset_bar' is not defined",
     "output_type": "error",
     "traceback": [
      "\u001b[0;31m---------------------------------------------------------------------------\u001b[0m",
      "\u001b[0;31mNameError\u001b[0m                                 Traceback (most recent call last)",
      "Input \u001b[0;32mIn [75]\u001b[0m, in \u001b[0;36m<cell line: 2>\u001b[0;34m()\u001b[0m\n\u001b[1;32m      1\u001b[0m \u001b[38;5;66;03m# Cufflinks bar plot\u001b[39;00m\n\u001b[0;32m----> 2\u001b[0m \u001b[43mdataset_bar\u001b[49m\u001b[38;5;241m.\u001b[39miplot(kind\u001b[38;5;241m=\u001b[39m\u001b[38;5;124m'\u001b[39m\u001b[38;5;124mbar\u001b[39m\u001b[38;5;124m'\u001b[39m,\n\u001b[1;32m      3\u001b[0m                   x\u001b[38;5;241m=\u001b[39m\u001b[38;5;124m'\u001b[39m\u001b[38;5;124mVARIABLE\u001b[39m\u001b[38;5;124m'\u001b[39m,\n\u001b[1;32m      4\u001b[0m                   xTitle\u001b[38;5;241m=\u001b[39m\u001b[38;5;124m'\u001b[39m\u001b[38;5;124mAXIS TITLE\u001b[39m\u001b[38;5;124m'\u001b[39m,\n\u001b[1;32m      5\u001b[0m                   yTitle\u001b[38;5;241m=\u001b[39m\u001b[38;5;124m'\u001b[39m\u001b[38;5;124mAXIS TITLE\u001b[39m\u001b[38;5;124m'\u001b[39m,\n\u001b[1;32m      6\u001b[0m                   title\u001b[38;5;241m=\u001b[39m\u001b[38;5;124m'\u001b[39m\u001b[38;5;124mVIZ TITLE\u001b[39m\u001b[38;5;124m'\u001b[39m)\n",
      "\u001b[0;31mNameError\u001b[0m: name 'dataset_bar' is not defined"
     ]
    }
   ],
   "source": [
    "# Cufflinks bar plot\n",
    "dataset_bar.iplot(kind='bar',\n",
    "                  x='VARIABLE',\n",
    "                  xTitle='AXIS TITLE',\n",
    "                  yTitle='AXIS TITLE',\n",
    "                  title='VIZ TITLE')\n"
   ]
  },
  {
   "cell_type": "code",
   "execution_count": null,
   "metadata": {},
   "outputs": [],
   "source": [
    "# Cufflinks line plot\n",
    "'''\n",
    "dataset_line.iplot(kind='line',\n",
    "                   x='VARIABLE',\n",
    "                   xTitle='AXIS TITLE',\n",
    "                   yTitle='AXIS TITLE',\n",
    "                   title='VIZ TITLE')\n",
    "'''"
   ]
  },
  {
   "cell_type": "code",
   "execution_count": null,
   "metadata": {},
   "outputs": [],
   "source": [
    "# Cufflinks scatter plot\n",
    "'''\n",
    "dataset_scatter.iplot(x='VARIABLE', \n",
    "                      y='VARIABLE', \n",
    "                      categories='VARIABLE',\n",
    "                      xTitle='AXIS TITLE', \n",
    "                      yTitle='AXIS TITLE',\n",
    "                      title='VIZ TITLE')\n",
    "'''"
   ]
  }
 ],
 "metadata": {
  "kernelspec": {
   "display_name": "Python 3.9.13 ('m1-ih')",
   "language": "python",
   "name": "python3913jvsc74a57bd05e80755c78bf14ae5c8c43e42a6760e2cd8311bcd4a8ac6eaf709700ba3e25b3"
  },
  "language_info": {
   "codemirror_mode": {
    "name": "ipython",
    "version": 3
   },
   "file_extension": ".py",
   "mimetype": "text/x-python",
   "name": "python",
   "nbconvert_exporter": "python",
   "pygments_lexer": "ipython3",
   "version": "3.9.13"
  }
 },
 "nbformat": 4,
 "nbformat_minor": 2
}
